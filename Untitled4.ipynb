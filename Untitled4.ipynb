{
 "cells": [
  {
   "cell_type": "code",
   "execution_count": 1,
   "id": "50c54650",
   "metadata": {},
   "outputs": [
    {
     "name": "stderr",
     "output_type": "stream",
     "text": [
      "C:\\Users\\jonghyun\\anaconda3\\envs\\boenv\\Lib\\site-packages\\tqdm\\auto.py:21: TqdmWarning: IProgress not found. Please update jupyter and ipywidgets. See https://ipywidgets.readthedocs.io/en/stable/user_install.html\n",
      "  from .autonotebook import tqdm as notebook_tqdm\n"
     ]
    },
    {
     "ename": "ModuleNotFoundError",
     "evalue": "No module named 'botorch.sampling.samplers'",
     "output_type": "error",
     "traceback": [
      "\u001b[31m---------------------------------------------------------------------------\u001b[39m",
      "\u001b[31mModuleNotFoundError\u001b[39m                       Traceback (most recent call last)",
      "\u001b[36mCell\u001b[39m\u001b[36m \u001b[39m\u001b[32mIn[1]\u001b[39m\u001b[32m, line 17\u001b[39m\n\u001b[32m     15\u001b[39m \u001b[38;5;28;01mfrom\u001b[39;00m\u001b[38;5;250m \u001b[39m\u001b[34;01mbotorch\u001b[39;00m\u001b[34;01m.\u001b[39;00m\u001b[34;01macquisition\u001b[39;00m\u001b[34;01m.\u001b[39;00m\u001b[34;01mmonte_carlo\u001b[39;00m\u001b[38;5;250m \u001b[39m\u001b[38;5;28;01mimport\u001b[39;00m qUpperConfidenceBound\n\u001b[32m     16\u001b[39m \u001b[38;5;28;01mfrom\u001b[39;00m\u001b[38;5;250m \u001b[39m\u001b[34;01mbotorch\u001b[39;00m\u001b[34;01m.\u001b[39;00m\u001b[34;01macquisition\u001b[39;00m\u001b[34;01m.\u001b[39;00m\u001b[34;01mlogei\u001b[39;00m\u001b[38;5;250m \u001b[39m\u001b[38;5;28;01mimport\u001b[39;00m qLogNoisyExpectedImprovement  \u001b[38;5;66;03m# \"logEI\" (noisy)\u001b[39;00m\n\u001b[32m---> \u001b[39m\u001b[32m17\u001b[39m \u001b[38;5;28;01mfrom\u001b[39;00m\u001b[38;5;250m \u001b[39m\u001b[34;01mbotorch\u001b[39;00m\u001b[34;01m.\u001b[39;00m\u001b[34;01msampling\u001b[39;00m\u001b[34;01m.\u001b[39;00m\u001b[34;01msamplers\u001b[39;00m\u001b[38;5;250m \u001b[39m\u001b[38;5;28;01mimport\u001b[39;00m SobolQMCNormalSampler\n\u001b[32m     18\u001b[39m \u001b[38;5;28;01mfrom\u001b[39;00m\u001b[38;5;250m \u001b[39m\u001b[34;01mbotorch\u001b[39;00m\u001b[34;01m.\u001b[39;00m\u001b[34;01moptim\u001b[39;00m\u001b[38;5;250m \u001b[39m\u001b[38;5;28;01mimport\u001b[39;00m optimize_acqf\n",
      "\u001b[31mModuleNotFoundError\u001b[39m: No module named 'botorch.sampling.samplers'"
     ]
    }
   ],
   "source": [
    "# bo_logei_script.py\n",
    "import os, sys, time, csv\n",
    "from datetime import datetime\n",
    "from pathlib import Path\n",
    "from typing import Dict, Tuple, List\n",
    "\n",
    "import torch\n",
    "from torch import Tensor\n",
    "\n",
    "# ---- BoTorch / GPyTorch ----\n",
    "from botorch.models import SingleTaskGP\n",
    "from botorch.models.transforms import Standardize, Normalize\n",
    "from botorch.fit import fit_gpytorch_mll\n",
    "from gpytorch.mlls import ExactMarginalLogLikelihood\n",
    "from botorch.acquisition.monte_carlo import qUpperConfidenceBound\n",
    "from botorch.acquisition.logei import qLogNoisyExpectedImprovement  # \"logEI\" (noisy)\n",
    "from botorch.sampling.samplers import SobolQMCNormalSampler\n",
    "from botorch.optim import optimize_acqf"
   ]
  },
  {
   "cell_type": "code",
   "execution_count": 2,
   "id": "0718580c",
   "metadata": {},
   "outputs": [
    {
     "name": "stdout",
     "output_type": "stream",
     "text": [
      "Package                 Version\n",
      "----------------------- ------------\n",
      "asttokens               3.0.0\n",
      "botorch                 0.15.1\n",
      "colorama                0.4.6\n",
      "comm                    0.2.3\n",
      "debugpy                 1.8.16\n",
      "decorator               5.2.1\n",
      "executing               2.2.1\n",
      "filelock                3.13.1\n",
      "fsspec                  2024.6.1\n",
      "gpytorch                1.14\n",
      "ipykernel               6.30.1\n",
      "ipython                 9.5.0\n",
      "ipython_pygments_lexers 1.1.1\n",
      "jaxtyping               0.3.2\n",
      "jedi                    0.19.2\n",
      "Jinja2                  3.1.4\n",
      "joblib                  1.5.2\n",
      "jupyter_client          8.6.3\n",
      "jupyter_core            5.8.1\n",
      "linear-operator         0.6\n",
      "MarkupSafe              2.1.5\n",
      "matplotlib-inline       0.1.7\n",
      "mpmath                  1.3.0\n",
      "multipledispatch        1.0.0\n",
      "mypy_extensions         1.1.0\n",
      "nest-asyncio            1.6.0\n",
      "networkx                3.3\n",
      "numpy                   2.1.2\n",
      "opt_einsum              3.4.0\n",
      "packaging               25.0\n",
      "parso                   0.8.5\n",
      "pillow                  11.0.0\n",
      "pip                     25.2\n",
      "platformdirs            4.4.0\n",
      "prompt_toolkit          3.0.52\n",
      "psutil                  7.0.0\n",
      "pure_eval               0.2.3\n",
      "Pygments                2.19.2\n",
      "pyre-extensions         0.0.32\n",
      "pyro-api                0.1.2\n",
      "pyro-ppl                1.9.1\n",
      "python-dateutil         2.9.0.post0\n",
      "pywin32                 311\n",
      "pyzmq                   27.0.2\n",
      "scikit-learn            1.7.1\n",
      "scipy                   1.16.1\n",
      "setuptools              78.1.1\n",
      "six                     1.17.0\n",
      "stack-data              0.6.3\n",
      "sympy                   1.13.3\n",
      "threadpoolctl           3.6.0\n",
      "torch                   2.8.0+cu126\n",
      "torchvision             0.23.0+cu126\n",
      "tornado                 6.5.2\n",
      "tqdm                    4.67.1\n",
      "traitlets               5.14.3\n",
      "typing_extensions       4.12.2\n",
      "typing-inspect          0.9.0\n",
      "wadler_lindig           0.1.7\n",
      "wcwidth                 0.2.13\n",
      "wheel                   0.45.1\n",
      "Note: you may need to restart the kernel to use updated packages.\n"
     ]
    }
   ],
   "source": [
    "pip list"
   ]
  },
  {
   "cell_type": "code",
   "execution_count": null,
   "id": "a49c724a",
   "metadata": {},
   "outputs": [],
   "source": []
  }
 ],
 "metadata": {
  "kernelspec": {
   "display_name": "Python [conda env:boenv]",
   "language": "python",
   "name": "conda-env-boenv-py"
  },
  "language_info": {
   "codemirror_mode": {
    "name": "ipython",
    "version": 3
   },
   "file_extension": ".py",
   "mimetype": "text/x-python",
   "name": "python",
   "nbconvert_exporter": "python",
   "pygments_lexer": "ipython3",
   "version": "3.11.13"
  }
 },
 "nbformat": 4,
 "nbformat_minor": 5
}
